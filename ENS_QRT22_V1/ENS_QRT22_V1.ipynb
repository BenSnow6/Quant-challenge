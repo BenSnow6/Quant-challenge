{
 "cells": [
  {
   "cell_type": "markdown",
   "metadata": {},
   "source": [
    "# Notebook for the ENS Challenge Data 2022 - Qube Research & Technologies \n",
    "\n",
    "# **Learning factors for stock market returns prediction**"
   ]
  },
  {
   "cell_type": "markdown",
   "metadata": {},
   "source": [
    "### Data preparation"
   ]
  },
  {
   "cell_type": "code",
   "execution_count": 1,
   "metadata": {},
   "outputs": [],
   "source": [
    "import numpy as np\n",
    "import pandas as pd\n",
    "import matplotlib.pyplot as plt\n",
    "\n",
    "path = '../' \n",
    "\n",
    "X_train = pd.read_csv(path+'X_train.csv', index_col=0, sep=',')\n",
    "X_train.columns.name = 'date'\n",
    "\n",
    "Y_train = pd.read_csv(path+'Y_train.csv', index_col=0, sep=',')\n",
    "Y_train.columns.name = 'date'"
   ]
  },
  {
   "cell_type": "markdown",
   "metadata": {},
   "source": [
    "We have 50 stocks in the dataset and 754 days of returns for each stock."
   ]
  },
  {
   "cell_type": "code",
   "execution_count": 2,
   "metadata": {},
   "outputs": [
    {
     "data": {
      "text/plain": [
       "(50, 754)"
      ]
     },
     "execution_count": 2,
     "metadata": {},
     "output_type": "execute_result"
    }
   ],
   "source": [
    "X_train.shape"
   ]
  },
  {
   "cell_type": "code",
   "execution_count": 3,
   "metadata": {},
   "outputs": [
    {
     "data": {
      "text/html": [
       "<div>\n",
       "<style scoped>\n",
       "    .dataframe tbody tr th:only-of-type {\n",
       "        vertical-align: middle;\n",
       "    }\n",
       "\n",
       "    .dataframe tbody tr th {\n",
       "        vertical-align: top;\n",
       "    }\n",
       "\n",
       "    .dataframe thead th {\n",
       "        text-align: right;\n",
       "    }\n",
       "</style>\n",
       "<table border=\"1\" class=\"dataframe\">\n",
       "  <thead>\n",
       "    <tr style=\"text-align: right;\">\n",
       "      <th>date</th>\n",
       "      <th>0</th>\n",
       "      <th>1</th>\n",
       "      <th>2</th>\n",
       "      <th>3</th>\n",
       "      <th>4</th>\n",
       "      <th>5</th>\n",
       "      <th>6</th>\n",
       "      <th>7</th>\n",
       "      <th>8</th>\n",
       "      <th>9</th>\n",
       "      <th>...</th>\n",
       "      <th>744</th>\n",
       "      <th>745</th>\n",
       "      <th>746</th>\n",
       "      <th>747</th>\n",
       "      <th>748</th>\n",
       "      <th>749</th>\n",
       "      <th>750</th>\n",
       "      <th>751</th>\n",
       "      <th>752</th>\n",
       "      <th>753</th>\n",
       "    </tr>\n",
       "    <tr>\n",
       "      <th>stocksID</th>\n",
       "      <th></th>\n",
       "      <th></th>\n",
       "      <th></th>\n",
       "      <th></th>\n",
       "      <th></th>\n",
       "      <th></th>\n",
       "      <th></th>\n",
       "      <th></th>\n",
       "      <th></th>\n",
       "      <th></th>\n",
       "      <th></th>\n",
       "      <th></th>\n",
       "      <th></th>\n",
       "      <th></th>\n",
       "      <th></th>\n",
       "      <th></th>\n",
       "      <th></th>\n",
       "      <th></th>\n",
       "      <th></th>\n",
       "      <th></th>\n",
       "      <th></th>\n",
       "    </tr>\n",
       "  </thead>\n",
       "  <tbody>\n",
       "    <tr>\n",
       "      <th>0</th>\n",
       "      <td>-0.018647</td>\n",
       "      <td>-0.013002</td>\n",
       "      <td>-0.010776</td>\n",
       "      <td>-0.016676</td>\n",
       "      <td>-0.005110</td>\n",
       "      <td>0.009092</td>\n",
       "      <td>-0.011745</td>\n",
       "      <td>0.007120</td>\n",
       "      <td>-0.008451</td>\n",
       "      <td>0.009119</td>\n",
       "      <td>...</td>\n",
       "      <td>-0.012525</td>\n",
       "      <td>-0.011716</td>\n",
       "      <td>0.003532</td>\n",
       "      <td>0.009965</td>\n",
       "      <td>0.018142</td>\n",
       "      <td>-0.001236</td>\n",
       "      <td>-0.002732</td>\n",
       "      <td>0.013074</td>\n",
       "      <td>-0.005843</td>\n",
       "      <td>-0.003823</td>\n",
       "    </tr>\n",
       "    <tr>\n",
       "      <th>1</th>\n",
       "      <td>-0.008254</td>\n",
       "      <td>-0.022280</td>\n",
       "      <td>0.012173</td>\n",
       "      <td>-0.006820</td>\n",
       "      <td>-0.004055</td>\n",
       "      <td>0.012912</td>\n",
       "      <td>-0.001293</td>\n",
       "      <td>0.009994</td>\n",
       "      <td>-0.002747</td>\n",
       "      <td>0.001664</td>\n",
       "      <td>...</td>\n",
       "      <td>0.014432</td>\n",
       "      <td>-0.002255</td>\n",
       "      <td>-0.011493</td>\n",
       "      <td>0.002291</td>\n",
       "      <td>-0.001346</td>\n",
       "      <td>-0.004026</td>\n",
       "      <td>-0.004672</td>\n",
       "      <td>-0.002889</td>\n",
       "      <td>-0.004984</td>\n",
       "      <td>0.005005</td>\n",
       "    </tr>\n",
       "    <tr>\n",
       "      <th>2</th>\n",
       "      <td>-0.008404</td>\n",
       "      <td>-0.013629</td>\n",
       "      <td>-0.006044</td>\n",
       "      <td>-0.003425</td>\n",
       "      <td>-0.009522</td>\n",
       "      <td>-0.001353</td>\n",
       "      <td>-0.000637</td>\n",
       "      <td>0.007640</td>\n",
       "      <td>0.001600</td>\n",
       "      <td>0.007416</td>\n",
       "      <td>...</td>\n",
       "      <td>-0.006245</td>\n",
       "      <td>-0.001329</td>\n",
       "      <td>0.005230</td>\n",
       "      <td>0.003510</td>\n",
       "      <td>0.006022</td>\n",
       "      <td>-0.000343</td>\n",
       "      <td>0.001757</td>\n",
       "      <td>0.004972</td>\n",
       "      <td>0.004916</td>\n",
       "      <td>-0.007338</td>\n",
       "    </tr>\n",
       "    <tr>\n",
       "      <th>3</th>\n",
       "      <td>-0.022734</td>\n",
       "      <td>-0.006981</td>\n",
       "      <td>-0.008568</td>\n",
       "      <td>-0.010899</td>\n",
       "      <td>-0.017981</td>\n",
       "      <td>0.002485</td>\n",
       "      <td>-0.011980</td>\n",
       "      <td>0.012446</td>\n",
       "      <td>-0.010636</td>\n",
       "      <td>0.003807</td>\n",
       "      <td>...</td>\n",
       "      <td>-0.005179</td>\n",
       "      <td>-0.003442</td>\n",
       "      <td>0.002733</td>\n",
       "      <td>0.013369</td>\n",
       "      <td>0.019738</td>\n",
       "      <td>0.001201</td>\n",
       "      <td>-0.003669</td>\n",
       "      <td>0.008690</td>\n",
       "      <td>0.000272</td>\n",
       "      <td>-0.008150</td>\n",
       "    </tr>\n",
       "    <tr>\n",
       "      <th>4</th>\n",
       "      <td>-0.024546</td>\n",
       "      <td>-0.008315</td>\n",
       "      <td>-0.007991</td>\n",
       "      <td>-0.003515</td>\n",
       "      <td>0.007872</td>\n",
       "      <td>0.007082</td>\n",
       "      <td>-0.004614</td>\n",
       "      <td>-0.008182</td>\n",
       "      <td>-0.005255</td>\n",
       "      <td>0.014404</td>\n",
       "      <td>...</td>\n",
       "      <td>-0.017507</td>\n",
       "      <td>-0.001233</td>\n",
       "      <td>-0.000552</td>\n",
       "      <td>0.004664</td>\n",
       "      <td>0.005202</td>\n",
       "      <td>0.007695</td>\n",
       "      <td>0.003775</td>\n",
       "      <td>0.005097</td>\n",
       "      <td>0.001135</td>\n",
       "      <td>-0.009262</td>\n",
       "    </tr>\n",
       "  </tbody>\n",
       "</table>\n",
       "<p>5 rows × 754 columns</p>\n",
       "</div>"
      ],
      "text/plain": [
       "date             0         1         2         3         4         5  \\\n",
       "stocksID                                                               \n",
       "0        -0.018647 -0.013002 -0.010776 -0.016676 -0.005110  0.009092   \n",
       "1        -0.008254 -0.022280  0.012173 -0.006820 -0.004055  0.012912   \n",
       "2        -0.008404 -0.013629 -0.006044 -0.003425 -0.009522 -0.001353   \n",
       "3        -0.022734 -0.006981 -0.008568 -0.010899 -0.017981  0.002485   \n",
       "4        -0.024546 -0.008315 -0.007991 -0.003515  0.007872  0.007082   \n",
       "\n",
       "date             6         7         8         9  ...       744       745  \\\n",
       "stocksID                                          ...                       \n",
       "0        -0.011745  0.007120 -0.008451  0.009119  ... -0.012525 -0.011716   \n",
       "1        -0.001293  0.009994 -0.002747  0.001664  ...  0.014432 -0.002255   \n",
       "2        -0.000637  0.007640  0.001600  0.007416  ... -0.006245 -0.001329   \n",
       "3        -0.011980  0.012446 -0.010636  0.003807  ... -0.005179 -0.003442   \n",
       "4        -0.004614 -0.008182 -0.005255  0.014404  ... -0.017507 -0.001233   \n",
       "\n",
       "date           746       747       748       749       750       751  \\\n",
       "stocksID                                                               \n",
       "0         0.003532  0.009965  0.018142 -0.001236 -0.002732  0.013074   \n",
       "1        -0.011493  0.002291 -0.001346 -0.004026 -0.004672 -0.002889   \n",
       "2         0.005230  0.003510  0.006022 -0.000343  0.001757  0.004972   \n",
       "3         0.002733  0.013369  0.019738  0.001201 -0.003669  0.008690   \n",
       "4        -0.000552  0.004664  0.005202  0.007695  0.003775  0.005097   \n",
       "\n",
       "date           752       753  \n",
       "stocksID                      \n",
       "0        -0.005843 -0.003823  \n",
       "1        -0.004984  0.005005  \n",
       "2         0.004916 -0.007338  \n",
       "3         0.000272 -0.008150  \n",
       "4         0.001135 -0.009262  \n",
       "\n",
       "[5 rows x 754 columns]"
      ]
     },
     "execution_count": 3,
     "metadata": {},
     "output_type": "execute_result"
    }
   ],
   "source": [
    "X_train.head()"
   ]
  },
  {
   "cell_type": "code",
   "execution_count": 4,
   "metadata": {},
   "outputs": [
    {
     "data": {
      "image/png": "[encoded data removed]",
      "text/plain": [
       "<Figure size 432x288 with 1 Axes>"
      ]
     },
     "metadata": {
      "needs_background": "light"
     },
     "output_type": "display_data"
    }
   ],
   "source": [
    "# The cumulative returns of the 50 stocks from the training data set over the three year period \n",
    "\n",
    "X_train.T.cumsum().plot(legend=False)\n",
    "plt.show()"
   ]
  },
  {
   "cell_type": "code",
   "execution_count": 51,
   "metadata": {},
   "outputs": [
    {
     "data": {
      "text/plain": [
       "(754, 50)"
      ]
     },
     "execution_count": 51,
     "metadata": {},
     "output_type": "execute_result"
    }
   ],
   "source": [
    "X_train.T.shape"
   ]
  },
  {
   "cell_type": "markdown",
   "metadata": {},
   "source": [
    "##### A useful data representation:\n",
    "\n",
    "To speed up upcoming computations, we reshape the data  into a DataFrame with index (date, stock) and columns the lagged return values of the stock at time \"date-1, ..., date-250\"."
   ]
  },
  {
   "cell_type": "code",
   "execution_count": 60,
   "metadata": {},
   "outputs": [
    {
     "name": "stderr",
     "output_type": "stream",
     "text": [
      "c:\\Users\\bensn\\anaconda3\\envs\\tf1\\lib\\site-packages\\ipykernel_launcher.py:1: FutureWarning: In a future version of pandas all arguments of concat except for the argument 'objs' will be keyword-only\n",
      "  \"\"\"Entry point for launching an IPython kernel.\n"
     ]
    },
    {
     "data": {
      "text/plain": [
       "(25200, 250)"
      ]
     },
     "execution_count": 60,
     "metadata": {},
     "output_type": "execute_result"
    }
   ],
   "source": [
    "X_train_oneshift = pd.concat([X_train.T.shift(i+1).stack(dropna=False) for i in range(0,250)] ,1).dropna()\n",
    "X_train_oneshift.shape"
   ]
  },
  {
   "cell_type": "code",
   "execution_count": 46,
   "metadata": {},
   "outputs": [
    {
     "data": {
      "text/plain": [
       "(36450, 25)"
      ]
     },
     "execution_count": 46,
     "metadata": {},
     "output_type": "execute_result"
    }
   ],
   "source": [
    "X_train_oneshift.shape"
   ]
  },
  {
   "cell_type": "code",
   "execution_count": 5,
   "metadata": {},
   "outputs": [
    {
     "name": "stderr",
     "output_type": "stream",
     "text": [
      "c:\\Users\\bensn\\anaconda3\\envs\\tf1\\lib\\site-packages\\ipykernel_launcher.py:1: FutureWarning: In a future version of pandas all arguments of concat except for the argument 'objs' will be keyword-only\n",
      "  \"\"\"Entry point for launching an IPython kernel.\n"
     ]
    }
   ],
   "source": [
    "X_train_reshape = pd.concat([ X_train.T.shift(i+1).stack(dropna=False) for i in range(250) ], 1).dropna()\n",
    "X_train_reshape.columns = pd.Index(range(1,251), name='timeLag')"
   ]
  },
  {
   "cell_type": "code",
   "execution_count": 69,
   "metadata": {},
   "outputs": [
    {
     "data": {
      "text/plain": [
       "-0.0027111869402541"
      ]
     },
     "execution_count": 69,
     "metadata": {},
     "output_type": "execute_result"
    }
   ],
   "source": [
    "X_train_reshape[20][700]"
   ]
  },
  {
   "cell_type": "markdown",
   "metadata": {},
   "source": [
    "The reason why the shape of this new datafram is (25200, 250) is because we have 754 days of returns for each stock and we have 50 stocks. So initially we have 754*50 = 37700 datapoints organised as 754 rows and 50 columns. We then calculate the lagged returns for the past 250 days and stack this data into a single column per day, hence the 250 rows in the final dataframe. We drop any rows with missing values so that is why the lagged returns begin at 250 days. (We can't calculate the lagged returns for the first 250 days because we don't have the returns for the 250 days prior to them!) We end up with $754-250 = 504$ rows of data for each stock, so we have $504*50 = 25200$ rows for each of the 250 lagged return columns. Hence the final dataframe's dimensions are (25200, 250). That's a whole lot of data!"
   ]
  },
  {
   "cell_type": "code",
   "execution_count": 25,
   "metadata": {},
   "outputs": [
    {
     "data": {
      "image/png": "[encoded data removed]",
      "text/plain": [
       "<Figure size 432x288 with 1 Axes>"
      ]
     },
     "metadata": {
      "needs_background": "light"
     },
     "output_type": "display_data"
    }
   ],
   "source": [
    "X_train_reshape[250].T.cumsum().plot(legend=False)\n",
    "plt.show()"
   ]
  },
  {
   "cell_type": "code",
   "execution_count": 7,
   "metadata": {},
   "outputs": [
    {
     "data": {
      "text/plain": [
       "(25200, 250)"
      ]
     },
     "execution_count": 7,
     "metadata": {},
     "output_type": "execute_result"
    }
   ],
   "source": [
    "X_train_reshape.shape"
   ]
  },
  {
   "cell_type": "code",
   "execution_count": 8,
   "metadata": {},
   "outputs": [
    {
     "data": {
      "text/html": [
       "<div>\n",
       "<style scoped>\n",
       "    .dataframe tbody tr th:only-of-type {\n",
       "        vertical-align: middle;\n",
       "    }\n",
       "\n",
       "    .dataframe tbody tr th {\n",
       "        vertical-align: top;\n",
       "    }\n",
       "\n",
       "    .dataframe thead th {\n",
       "        text-align: right;\n",
       "    }\n",
       "</style>\n",
       "<table border=\"1\" class=\"dataframe\">\n",
       "  <thead>\n",
       "    <tr style=\"text-align: right;\">\n",
       "      <th></th>\n",
       "      <th>timeLag</th>\n",
       "      <th>1</th>\n",
       "      <th>2</th>\n",
       "      <th>3</th>\n",
       "      <th>4</th>\n",
       "      <th>5</th>\n",
       "      <th>6</th>\n",
       "      <th>7</th>\n",
       "      <th>8</th>\n",
       "      <th>9</th>\n",
       "      <th>10</th>\n",
       "      <th>...</th>\n",
       "      <th>241</th>\n",
       "      <th>242</th>\n",
       "      <th>243</th>\n",
       "      <th>244</th>\n",
       "      <th>245</th>\n",
       "      <th>246</th>\n",
       "      <th>247</th>\n",
       "      <th>248</th>\n",
       "      <th>249</th>\n",
       "      <th>250</th>\n",
       "    </tr>\n",
       "    <tr>\n",
       "      <th>date</th>\n",
       "      <th>stocksID</th>\n",
       "      <th></th>\n",
       "      <th></th>\n",
       "      <th></th>\n",
       "      <th></th>\n",
       "      <th></th>\n",
       "      <th></th>\n",
       "      <th></th>\n",
       "      <th></th>\n",
       "      <th></th>\n",
       "      <th></th>\n",
       "      <th></th>\n",
       "      <th></th>\n",
       "      <th></th>\n",
       "      <th></th>\n",
       "      <th></th>\n",
       "      <th></th>\n",
       "      <th></th>\n",
       "      <th></th>\n",
       "      <th></th>\n",
       "      <th></th>\n",
       "      <th></th>\n",
       "    </tr>\n",
       "  </thead>\n",
       "  <tbody>\n",
       "    <tr>\n",
       "      <th rowspan=\"5\" valign=\"top\">250</th>\n",
       "      <th>0</th>\n",
       "      <td>0.000103</td>\n",
       "      <td>0.012387</td>\n",
       "      <td>0.011243</td>\n",
       "      <td>0.002595</td>\n",
       "      <td>-0.008509</td>\n",
       "      <td>-0.002711</td>\n",
       "      <td>0.008934</td>\n",
       "      <td>0.006571</td>\n",
       "      <td>-0.018546</td>\n",
       "      <td>-0.008353</td>\n",
       "      <td>...</td>\n",
       "      <td>0.009119</td>\n",
       "      <td>-0.008451</td>\n",
       "      <td>0.007120</td>\n",
       "      <td>-0.011745</td>\n",
       "      <td>0.009092</td>\n",
       "      <td>-0.005110</td>\n",
       "      <td>-0.016676</td>\n",
       "      <td>-0.010776</td>\n",
       "      <td>-0.013002</td>\n",
       "      <td>-0.018647</td>\n",
       "    </tr>\n",
       "    <tr>\n",
       "      <th>1</th>\n",
       "      <td>-0.000982</td>\n",
       "      <td>0.003932</td>\n",
       "      <td>0.000050</td>\n",
       "      <td>0.001616</td>\n",
       "      <td>-0.003902</td>\n",
       "      <td>-0.001686</td>\n",
       "      <td>0.008810</td>\n",
       "      <td>0.001585</td>\n",
       "      <td>-0.000745</td>\n",
       "      <td>-0.002155</td>\n",
       "      <td>...</td>\n",
       "      <td>0.001664</td>\n",
       "      <td>-0.002747</td>\n",
       "      <td>0.009994</td>\n",
       "      <td>-0.001293</td>\n",
       "      <td>0.012912</td>\n",
       "      <td>-0.004055</td>\n",
       "      <td>-0.006820</td>\n",
       "      <td>0.012173</td>\n",
       "      <td>-0.022280</td>\n",
       "      <td>-0.008254</td>\n",
       "    </tr>\n",
       "    <tr>\n",
       "      <th>2</th>\n",
       "      <td>0.009301</td>\n",
       "      <td>0.003914</td>\n",
       "      <td>0.004995</td>\n",
       "      <td>0.001539</td>\n",
       "      <td>0.001452</td>\n",
       "      <td>0.002809</td>\n",
       "      <td>0.005177</td>\n",
       "      <td>-0.006942</td>\n",
       "      <td>-0.013340</td>\n",
       "      <td>-0.008071</td>\n",
       "      <td>...</td>\n",
       "      <td>0.007416</td>\n",
       "      <td>0.001600</td>\n",
       "      <td>0.007640</td>\n",
       "      <td>-0.000637</td>\n",
       "      <td>-0.001353</td>\n",
       "      <td>-0.009522</td>\n",
       "      <td>-0.003425</td>\n",
       "      <td>-0.006044</td>\n",
       "      <td>-0.013629</td>\n",
       "      <td>-0.008404</td>\n",
       "    </tr>\n",
       "    <tr>\n",
       "      <th>3</th>\n",
       "      <td>0.006515</td>\n",
       "      <td>-0.006553</td>\n",
       "      <td>0.009464</td>\n",
       "      <td>0.005204</td>\n",
       "      <td>0.004227</td>\n",
       "      <td>-0.005438</td>\n",
       "      <td>0.008861</td>\n",
       "      <td>0.004025</td>\n",
       "      <td>-0.012432</td>\n",
       "      <td>-0.006100</td>\n",
       "      <td>...</td>\n",
       "      <td>0.003807</td>\n",
       "      <td>-0.010636</td>\n",
       "      <td>0.012446</td>\n",
       "      <td>-0.011980</td>\n",
       "      <td>0.002485</td>\n",
       "      <td>-0.017981</td>\n",
       "      <td>-0.010899</td>\n",
       "      <td>-0.008568</td>\n",
       "      <td>-0.006981</td>\n",
       "      <td>-0.022734</td>\n",
       "    </tr>\n",
       "    <tr>\n",
       "      <th>4</th>\n",
       "      <td>-0.006223</td>\n",
       "      <td>0.005415</td>\n",
       "      <td>0.014643</td>\n",
       "      <td>0.005195</td>\n",
       "      <td>0.004489</td>\n",
       "      <td>0.002695</td>\n",
       "      <td>0.007609</td>\n",
       "      <td>0.011437</td>\n",
       "      <td>-0.004804</td>\n",
       "      <td>0.039274</td>\n",
       "      <td>...</td>\n",
       "      <td>0.014404</td>\n",
       "      <td>-0.005255</td>\n",
       "      <td>-0.008182</td>\n",
       "      <td>-0.004614</td>\n",
       "      <td>0.007082</td>\n",
       "      <td>0.007872</td>\n",
       "      <td>-0.003515</td>\n",
       "      <td>-0.007991</td>\n",
       "      <td>-0.008315</td>\n",
       "      <td>-0.024546</td>\n",
       "    </tr>\n",
       "  </tbody>\n",
       "</table>\n",
       "<p>5 rows × 250 columns</p>\n",
       "</div>"
      ],
      "text/plain": [
       "timeLag             1         2         3         4         5         6    \\\n",
       "date stocksID                                                               \n",
       "250  0         0.000103  0.012387  0.011243  0.002595 -0.008509 -0.002711   \n",
       "     1        -0.000982  0.003932  0.000050  0.001616 -0.003902 -0.001686   \n",
       "     2         0.009301  0.003914  0.004995  0.001539  0.001452  0.002809   \n",
       "     3         0.006515 -0.006553  0.009464  0.005204  0.004227 -0.005438   \n",
       "     4        -0.006223  0.005415  0.014643  0.005195  0.004489  0.002695   \n",
       "\n",
       "timeLag             7         8         9         10   ...       241  \\\n",
       "date stocksID                                          ...             \n",
       "250  0         0.008934  0.006571 -0.018546 -0.008353  ...  0.009119   \n",
       "     1         0.008810  0.001585 -0.000745 -0.002155  ...  0.001664   \n",
       "     2         0.005177 -0.006942 -0.013340 -0.008071  ...  0.007416   \n",
       "     3         0.008861  0.004025 -0.012432 -0.006100  ...  0.003807   \n",
       "     4         0.007609  0.011437 -0.004804  0.039274  ...  0.014404   \n",
       "\n",
       "timeLag             242       243       244       245       246       247  \\\n",
       "date stocksID                                                               \n",
       "250  0        -0.008451  0.007120 -0.011745  0.009092 -0.005110 -0.016676   \n",
       "     1        -0.002747  0.009994 -0.001293  0.012912 -0.004055 -0.006820   \n",
       "     2         0.001600  0.007640 -0.000637 -0.001353 -0.009522 -0.003425   \n",
       "     3        -0.010636  0.012446 -0.011980  0.002485 -0.017981 -0.010899   \n",
       "     4        -0.005255 -0.008182 -0.004614  0.007082  0.007872 -0.003515   \n",
       "\n",
       "timeLag             248       249       250  \n",
       "date stocksID                                \n",
       "250  0        -0.010776 -0.013002 -0.018647  \n",
       "     1         0.012173 -0.022280 -0.008254  \n",
       "     2        -0.006044 -0.013629 -0.008404  \n",
       "     3        -0.008568 -0.006981 -0.022734  \n",
       "     4        -0.007991 -0.008315 -0.024546  \n",
       "\n",
       "[5 rows x 250 columns]"
      ]
     },
     "execution_count": 8,
     "metadata": {},
     "output_type": "execute_result"
    }
   ],
   "source": [
    "X_train_reshape.head()"
   ]
  },
  {
   "cell_type": "markdown",
   "metadata": {},
   "source": [
    "The motivation is that, given model parameters 'A' and 'beta', the associated predictions for Y_train are simply given by **Ypred = ( X_train_reshape @ A @ beta ).unstack().T**"
   ]
  },
  {
   "cell_type": "markdown",
   "metadata": {},
   "source": [
    "# The prediction model"
   ]
  },
  {
   "cell_type": "markdown",
   "metadata": {},
   "source": [
    "## Stiefel matrices"
   ]
  },
  {
   "cell_type": "markdown",
   "metadata": {},
   "source": [
    "##### Example 1: autoregressive model AR(F)\n",
    "Here we create an autographic model AR(F) with D=250 and F=10. The matrix only has values of 1 on the diagonal of the first F rows and 0 elsewhere."
   ]
  },
  {
   "cell_type": "code",
   "execution_count": 9,
   "metadata": {},
   "outputs": [],
   "source": [
    "def autoRegA(D=250, F=10):\n",
    "    \n",
    "    A = np.zeros((D,F))\n",
    "    for i in range(F): \n",
    "        A[i,i] = 1\n",
    "    return A"
   ]
  },
  {
   "cell_type": "code",
   "execution_count": 10,
   "metadata": {},
   "outputs": [
    {
     "data": {
      "image/png": "[encoded data removed]",
      "text/plain": [
       "<Figure size 1152x144 with 1 Axes>"
      ]
     },
     "metadata": {
      "needs_background": "light"
     },
     "output_type": "display_data"
    }
   ],
   "source": [
    "A = autoRegA()\n",
    "plt.matshow(A.T)\n",
    "plt.show()"
   ]
  },
  {
   "cell_type": "markdown",
   "metadata": {},
   "source": [
    "##### Example 2: uniformly random Stiefel matrix A\n",
    "Here we create a uniformly random Stiefel matrix A with D=250 and F=10. This just populates the matrix with random values between "
   ]
  },
  {
   "cell_type": "code",
   "execution_count": 11,
   "metadata": {},
   "outputs": [],
   "source": [
    "def randomA(D=250, F=10):  \n",
    "    \n",
    "    M = np.random.randn(D,F)\n",
    "    randomStiefel = np.linalg.qr(M)[0] # Apply Gram-Schmidt algorithm to the columns of M\n",
    "    \n",
    "    return (randomStiefel, M)"
   ]
  },
  {
   "cell_type": "code",
   "execution_count": 12,
   "metadata": {},
   "outputs": [
    {
     "data": {
      "image/png": "[encoded data removed]",
      "text/plain": [
       "<Figure size 1152x144 with 1 Axes>"
      ]
     },
     "metadata": {
      "needs_background": "light"
     },
     "output_type": "display_data"
    },
    {
     "data": {
      "image/png": "[encoded data removed]",
      "text/plain": [
       "<Figure size 1152x144 with 1 Axes>"
      ]
     },
     "metadata": {
      "needs_background": "light"
     },
     "output_type": "display_data"
    },
    {
     "name": "stdout",
     "output_type": "stream",
     "text": [
      "Min: -0.219 , Max: 0.192, Matrix norm: 3.162\n",
      "Min: -3.073 , Max: 3.592, Matrix norm: 50.475\n"
     ]
    }
   ],
   "source": [
    "RandA, M = randomA()\n",
    "plt.matshow(RandA.T)\n",
    "plt.matshow(M.T)\n",
    "plt.show()\n",
    "print(f\"Min: {round(RandA.min(),3)} , Max: {round(RandA.max(),3)}, Matrix norm: {round(np.linalg.norm(RandA),3)}\")\n",
    "print(f\"Min: {round(M.min(),3)} , Max: {round(M.max(),3)}, Matrix norm: {round(np.linalg.norm(M),3)}\")"
   ]
  },
  {
   "cell_type": "code",
   "execution_count": 13,
   "metadata": {},
   "outputs": [],
   "source": [
    "# to check the orthonormality constraints as in the metric:\n",
    "    \n",
    "def checkOrthonormality(A): \n",
    "    \n",
    "    bool = True\n",
    "    D, F = A.shape   \n",
    "    Error = pd.DataFrame(A.T @ A - np.eye(F)).abs()\n",
    "    \n",
    "    if any(Error.unstack() > 1e-6):\n",
    "        bool = False\n",
    "     \n",
    "    return bool"
   ]
  },
  {
   "cell_type": "code",
   "execution_count": 14,
   "metadata": {},
   "outputs": [
    {
     "data": {
      "text/plain": [
       "True"
      ]
     },
     "execution_count": 14,
     "metadata": {},
     "output_type": "execute_result"
    }
   ],
   "source": [
    "checkOrthonormality(A)"
   ]
  },
  {
   "cell_type": "markdown",
   "metadata": {},
   "source": [
    "## Beta parameters"
   ]
  },
  {
   "cell_type": "markdown",
   "metadata": {},
   "source": [
    "##### Example 1: \"keep the $m$ first factor only\" "
   ]
  },
  {
   "cell_type": "code",
   "execution_count": 15,
   "metadata": {},
   "outputs": [],
   "source": [
    "def firstBeta(m=1, F=10):\n",
    "\n",
    "    beta = np.zeros(F)\n",
    "    beta[:m] = 1\n",
    "    \n",
    "    return beta"
   ]
  },
  {
   "cell_type": "code",
   "execution_count": 16,
   "metadata": {},
   "outputs": [
    {
     "data": {
      "text/plain": [
       "array([1., 0., 0., 0., 0., 0., 0., 0., 0., 0.])"
      ]
     },
     "execution_count": 16,
     "metadata": {},
     "output_type": "execute_result"
    }
   ],
   "source": [
    "beta = firstBeta()\n",
    "beta"
   ]
  },
  {
   "cell_type": "markdown",
   "metadata": {},
   "source": [
    "##### Example 2: given a Stiefel matrix A, return the beta with minimal mean square prediction error on the training data set"
   ]
  },
  {
   "cell_type": "code",
   "execution_count": 17,
   "metadata": {},
   "outputs": [],
   "source": [
    "def fitBeta(A):\n",
    "    \"The @ symbol is the matrix multiplication operator in Python\"\n",
    "    predictors = X_train_reshape @ A # the dataframe of the 10 factors created from A with the (date, stock) in index\n",
    "    print(X_train_reshape.shape, A.shape, predictors.shape)\n",
    "    targets = Y_train.T.stack()\n",
    "    beta = np.linalg.inv(predictors.T @ predictors) @ predictors.T @ targets\n",
    "    \n",
    "    return beta.to_numpy()"
   ]
  },
  {
   "cell_type": "code",
   "execution_count": 18,
   "metadata": {},
   "outputs": [
    {
     "name": "stdout",
     "output_type": "stream",
     "text": [
      "(25200, 250) (250, 10) (25200, 10)\n"
     ]
    },
    {
     "data": {
      "text/plain": [
       "array([ 0.00623611, -0.00510036, -0.02025586, -0.00353405,  0.0088575 ,\n",
       "        0.00473335,  0.01333769,  0.00205558, -0.00067165,  0.00917629])"
      ]
     },
     "execution_count": 18,
     "metadata": {},
     "output_type": "execute_result"
    }
   ],
   "source": [
    "fitBeta(A)"
   ]
  },
  {
   "cell_type": "markdown",
   "metadata": {},
   "source": [
    "## Metric on the training data set"
   ]
  },
  {
   "cell_type": "markdown",
   "metadata": {},
   "source": [
    "The function **metric_train** below computes the *in sample* version of the metric for parameters 'A' and 'beta', using the accessible data sets 'X_train' and 'Y_train'. \n",
    "\n",
    "The true metric of the challenge is defined the same way except that we use the hidden data sets 'X_test' and 'Y_test' instead of 'X_train' and 'Y_train' (recall the latter contain the returns of 50 *other* stocks from the same stock market and on the *same* time period). "
   ]
  },
  {
   "cell_type": "code",
   "execution_count": 19,
   "metadata": {},
   "outputs": [],
   "source": [
    "def metric_train(A, beta): \n",
    "    \n",
    "    if not checkOrthonormality(A):\n",
    "        return -1.0    \n",
    "    \n",
    "    Ypred = (X_train_reshape @ A @ beta).unstack().T         \n",
    "    Ytrue = Y_train\n",
    "    \n",
    "    Ytrue = Ytrue.div(np.sqrt((Ytrue**2).sum()), 1)    \n",
    "    Ypred = Ypred.div(np.sqrt((Ypred**2).sum()), 1)\n",
    "\n",
    "    meanOverlap = (Ytrue * Ypred).sum().mean()\n",
    "\n",
    "    return  meanOverlap  "
   ]
  },
  {
   "cell_type": "markdown",
   "metadata": {},
   "source": [
    "# Examples"
   ]
  },
  {
   "cell_type": "markdown",
   "metadata": {},
   "source": [
    "##### Test 1: The autoregressive model AR(10)\n",
    "$$\n",
    "S_{t+1} := \\sum_{\\ell=1}^{10} \\beta_\\ell R_{t+1-\\ell}\n",
    "$$\n",
    "where the $\\beta_\\ell$'s are fitted by minimizing the mean square prediction error on the training data set. "
   ]
  },
  {
   "cell_type": "code",
   "execution_count": 20,
   "metadata": {},
   "outputs": [
    {
     "name": "stdout",
     "output_type": "stream",
     "text": [
      "(25200, 250) (250, 10) (25200, 10)\n"
     ]
    },
    {
     "data": {
      "text/plain": [
       "0.02402799094688757"
      ]
     },
     "execution_count": 20,
     "metadata": {},
     "output_type": "execute_result"
    }
   ],
   "source": [
    "A = autoRegA()\n",
    "beta = fitBeta(A)\n",
    "\n",
    "metric_train(A, beta) # public metric: 0.01282"
   ]
  },
  {
   "cell_type": "markdown",
   "metadata": {},
   "source": [
    "##### Test 2: The two factor model using '5-day returns' and 'momentum'\n",
    "This model is suggested in the description of the challenge and reads\n",
    "$$\n",
    "S_{t+1} := \\beta_1 \\,R_t^{(5)} + \\beta_2 \\,R_{t-20}^{(230)},\\qquad \\text{ with }\\quad R_t^{(m)}:= \\frac1{\\sqrt{m}}\\sum_{k=1}^{m} R_{t+1-k},\n",
    "$$\n",
    "where we find the parameters $\\beta_1$ and $\\beta_2$ by minimizing the mean square prediction error on the training data set.  \n",
    "\n",
    "*NB: the construction below actually shows how a model with $F\\leq 10$ factors be recasted into the framework of the challenge.*"
   ]
  },
  {
   "cell_type": "code",
   "execution_count": 21,
   "metadata": {},
   "outputs": [
    {
     "data": {
      "image/png": "[encoded data removed]",
      "text/plain": [
       "<Figure size 1152x144 with 1 Axes>"
      ]
     },
     "metadata": {
      "needs_background": "light"
     },
     "output_type": "display_data"
    }
   ],
   "source": [
    "# Step 1: Create a 250x10 matrix A with the two first columns representing the factors of interest\n",
    "\n",
    "A = np.zeros((250,10))\n",
    "\n",
    "A[0:5, 0] = 1/np.sqrt(5) # 5-day return factor\n",
    "A[20:250, 1] = 1/np.sqrt(230) # momentum factor\n",
    "\n",
    "# Step 2: Fill the remaining columns of A with random orthonormal vectors, that are orthogonal to the two first columns\n",
    "\n",
    "orthoProj = np.eye(250) - np.outer(A[:, 0], A[:, 0]) - np.outer(A[:, 1], A[:, 1]) # projection matrix on the orthogonal to the span of A[:,0] and A[:,1]\n",
    "A_remaining_columns = orthoProj @ np.random.randn(250, 8) # sample random vectors in the space orthogonal to the first two columns of A\n",
    "A_remaining_columns = np.linalg.qr(A_remaining_columns)[0] # orthonormalize these vectors with Gram-Schmidt algorithm\n",
    "A[:, 2:] = A_remaining_columns\n",
    "plt.matshow(A.T)\n",
    "plt.show()"
   ]
  },
  {
   "cell_type": "code",
   "execution_count": 22,
   "metadata": {},
   "outputs": [
    {
     "name": "stdout",
     "output_type": "stream",
     "text": [
      "[-0.00694934  0.01560642  0.          0.          0.          0.\n",
      "  0.          0.          0.          0.        ]\n"
     ]
    },
    {
     "data": {
      "text/plain": [
       "0.019538512062321073"
      ]
     },
     "execution_count": 22,
     "metadata": {},
     "output_type": "execute_result"
    }
   ],
   "source": [
    "\n",
    "\n",
    "# Step 3: Compute the mean square optimal beta_1, beta_2 and then complete the vector beta with zeros\n",
    "\n",
    "predictors = X_train_reshape @ A[:, :2]\n",
    "targets = Y_train.T.stack()\n",
    "beta = np.linalg.inv(predictors.T @ predictors) @ predictors.T @ targets\n",
    "beta = np.hstack([beta, np.zeros(8)])\n",
    "print(beta)\n",
    "\n",
    "\n",
    "metric_train(A, beta) # public metric: 0.01787"
   ]
  },
  {
   "cell_type": "markdown",
   "metadata": {},
   "source": [
    "# The benchmark"
   ]
  },
  {
   "cell_type": "markdown",
   "metadata": {},
   "source": [
    "This the code for the benchmark provided in the challenge description. "
   ]
  },
  {
   "cell_type": "code",
   "execution_count": 23,
   "metadata": {},
   "outputs": [
    {
     "ename": "ValueError",
     "evalue": "Dot product shape mismatch, (25200, 250) vs (2, 250, 10)",
     "output_type": "error",
     "traceback": [
      "\u001b[1;31m---------------------------------------------------------------------------\u001b[0m",
      "\u001b[1;31mValueError\u001b[0m                                Traceback (most recent call last)",
      "\u001b[1;32m<ipython-input-23-6a9c77153865>\u001b[0m in \u001b[0;36m<module>\u001b[1;34m\u001b[0m\n\u001b[0;32m      9\u001b[0m \u001b[1;33m\u001b[0m\u001b[0m\n\u001b[0;32m     10\u001b[0m     \u001b[0mA\u001b[0m \u001b[1;33m=\u001b[0m \u001b[0mrandomA\u001b[0m\u001b[1;33m(\u001b[0m\u001b[1;33m)\u001b[0m\u001b[1;33m\u001b[0m\u001b[1;33m\u001b[0m\u001b[0m\n\u001b[1;32m---> 11\u001b[1;33m     \u001b[0mbeta\u001b[0m \u001b[1;33m=\u001b[0m \u001b[0mfitBeta\u001b[0m\u001b[1;33m(\u001b[0m\u001b[0mA\u001b[0m\u001b[1;33m)\u001b[0m\u001b[1;33m\u001b[0m\u001b[1;33m\u001b[0m\u001b[0m\n\u001b[0m\u001b[0;32m     12\u001b[0m \u001b[1;33m\u001b[0m\u001b[0m\n\u001b[0;32m     13\u001b[0m     \u001b[1;31m# compute the metric on the training set and keep the best result\u001b[0m\u001b[1;33m\u001b[0m\u001b[1;33m\u001b[0m\u001b[1;33m\u001b[0m\u001b[0m\n",
      "\u001b[1;32m<ipython-input-17-fef2fd7276d8>\u001b[0m in \u001b[0;36mfitBeta\u001b[1;34m(A)\u001b[0m\n\u001b[0;32m      1\u001b[0m \u001b[1;32mdef\u001b[0m \u001b[0mfitBeta\u001b[0m\u001b[1;33m(\u001b[0m\u001b[0mA\u001b[0m\u001b[1;33m)\u001b[0m\u001b[1;33m:\u001b[0m\u001b[1;33m\u001b[0m\u001b[1;33m\u001b[0m\u001b[0m\n\u001b[0;32m      2\u001b[0m     \u001b[1;34m\"The @ symbol is the matrix multiplication operator in Python\"\u001b[0m\u001b[1;33m\u001b[0m\u001b[1;33m\u001b[0m\u001b[0m\n\u001b[1;32m----> 3\u001b[1;33m     \u001b[0mpredictors\u001b[0m \u001b[1;33m=\u001b[0m \u001b[0mX_train_reshape\u001b[0m \u001b[1;33m@\u001b[0m \u001b[0mA\u001b[0m \u001b[1;31m# the dataframe of the 10 factors created from A with the (date, stock) in index\u001b[0m\u001b[1;33m\u001b[0m\u001b[1;33m\u001b[0m\u001b[0m\n\u001b[0m\u001b[0;32m      4\u001b[0m     \u001b[0mprint\u001b[0m\u001b[1;33m(\u001b[0m\u001b[0mX_train_reshape\u001b[0m\u001b[1;33m.\u001b[0m\u001b[0mshape\u001b[0m\u001b[1;33m,\u001b[0m \u001b[0mA\u001b[0m\u001b[1;33m.\u001b[0m\u001b[0mshape\u001b[0m\u001b[1;33m,\u001b[0m \u001b[0mpredictors\u001b[0m\u001b[1;33m.\u001b[0m\u001b[0mshape\u001b[0m\u001b[1;33m)\u001b[0m\u001b[1;33m\u001b[0m\u001b[1;33m\u001b[0m\u001b[0m\n\u001b[0;32m      5\u001b[0m     \u001b[0mtargets\u001b[0m \u001b[1;33m=\u001b[0m \u001b[0mY_train\u001b[0m\u001b[1;33m.\u001b[0m\u001b[0mT\u001b[0m\u001b[1;33m.\u001b[0m\u001b[0mstack\u001b[0m\u001b[1;33m(\u001b[0m\u001b[1;33m)\u001b[0m\u001b[1;33m\u001b[0m\u001b[1;33m\u001b[0m\u001b[0m\n",
      "\u001b[1;32mc:\\Users\\bensn\\anaconda3\\envs\\tf1\\lib\\site-packages\\pandas\\core\\frame.py\u001b[0m in \u001b[0;36m__matmul__\u001b[1;34m(self, other)\u001b[0m\n\u001b[0;32m   1490\u001b[0m         \u001b[0mMatrix\u001b[0m \u001b[0mmultiplication\u001b[0m \u001b[0musing\u001b[0m \u001b[0mbinary\u001b[0m\u001b[0;31m \u001b[0m\u001b[0;31m`\u001b[0m\u001b[1;33m@\u001b[0m\u001b[0;31m`\u001b[0m \u001b[0moperator\u001b[0m \u001b[1;32min\u001b[0m \u001b[0mPython\u001b[0m\u001b[1;33m>=\u001b[0m\u001b[1;36m3.5\u001b[0m\u001b[1;33m.\u001b[0m\u001b[1;33m\u001b[0m\u001b[1;33m\u001b[0m\u001b[0m\n\u001b[0;32m   1491\u001b[0m         \"\"\"\n\u001b[1;32m-> 1492\u001b[1;33m         \u001b[1;32mreturn\u001b[0m \u001b[0mself\u001b[0m\u001b[1;33m.\u001b[0m\u001b[0mdot\u001b[0m\u001b[1;33m(\u001b[0m\u001b[0mother\u001b[0m\u001b[1;33m)\u001b[0m\u001b[1;33m\u001b[0m\u001b[1;33m\u001b[0m\u001b[0m\n\u001b[0m\u001b[0;32m   1493\u001b[0m \u001b[1;33m\u001b[0m\u001b[0m\n\u001b[0;32m   1494\u001b[0m     \u001b[1;32mdef\u001b[0m \u001b[0m__rmatmul__\u001b[0m\u001b[1;33m(\u001b[0m\u001b[0mself\u001b[0m\u001b[1;33m,\u001b[0m \u001b[0mother\u001b[0m\u001b[1;33m)\u001b[0m\u001b[1;33m:\u001b[0m\u001b[1;33m\u001b[0m\u001b[1;33m\u001b[0m\u001b[0m\n",
      "\u001b[1;32mc:\\Users\\bensn\\anaconda3\\envs\\tf1\\lib\\site-packages\\pandas\\core\\frame.py\u001b[0m in \u001b[0;36mdot\u001b[1;34m(self, other)\u001b[0m\n\u001b[0;32m   1456\u001b[0m             \u001b[1;32mif\u001b[0m \u001b[0mlvals\u001b[0m\u001b[1;33m.\u001b[0m\u001b[0mshape\u001b[0m\u001b[1;33m[\u001b[0m\u001b[1;36m1\u001b[0m\u001b[1;33m]\u001b[0m \u001b[1;33m!=\u001b[0m \u001b[0mrvals\u001b[0m\u001b[1;33m.\u001b[0m\u001b[0mshape\u001b[0m\u001b[1;33m[\u001b[0m\u001b[1;36m0\u001b[0m\u001b[1;33m]\u001b[0m\u001b[1;33m:\u001b[0m\u001b[1;33m\u001b[0m\u001b[1;33m\u001b[0m\u001b[0m\n\u001b[0;32m   1457\u001b[0m                 raise ValueError(\n\u001b[1;32m-> 1458\u001b[1;33m                     \u001b[1;34mf\"Dot product shape mismatch, {lvals.shape} vs {rvals.shape}\"\u001b[0m\u001b[1;33m\u001b[0m\u001b[1;33m\u001b[0m\u001b[0m\n\u001b[0m\u001b[0;32m   1459\u001b[0m                 )\n\u001b[0;32m   1460\u001b[0m \u001b[1;33m\u001b[0m\u001b[0m\n",
      "\u001b[1;31mValueError\u001b[0m: Dot product shape mismatch, (25200, 250) vs (2, 250, 10)"
     ]
    }
   ],
   "source": [
    "Niter = 1000\n",
    "maxMetric = -1\n",
    "\n",
    "np.random.seed(1234)\n",
    "\n",
    "for iteration in range(Niter):\n",
    "    \n",
    "    # Generate a uniform random Stiefel matric A and fit beta with minimal mean square prediction error on the training data set\n",
    "    \n",
    "    A = randomA()\n",
    "    beta = fitBeta(A)\n",
    "    \n",
    "    # compute the metric on the training set and keep the best result   \n",
    "    \n",
    "    m = metric_train(A, beta)\n",
    "        \n",
    "    if m > maxMetric:\n",
    "        print(iteration, 'metric_train:', m)\n",
    "        \n",
    "        maxMetric = m\n",
    "        A_QRT = A\n",
    "        beta_QRT = beta  "
   ]
  },
  {
   "cell_type": "code",
   "execution_count": null,
   "metadata": {},
   "outputs": [
    {
     "data": {
      "text/plain": [
       "0.045787821873291355"
      ]
     },
     "execution_count": 16,
     "metadata": {},
     "output_type": "execute_result"
    }
   ],
   "source": [
    "metric_train(A_QRT, beta_QRT) # public metric: 0.03535"
   ]
  },
  {
   "cell_type": "markdown",
   "metadata": {},
   "source": [
    "# Postprocessing"
   ]
  },
  {
   "cell_type": "markdown",
   "metadata": {},
   "source": [
    "## From $(A, \\beta)$ to the output csv format"
   ]
  },
  {
   "cell_type": "code",
   "execution_count": null,
   "metadata": {},
   "outputs": [],
   "source": [
    "def parametersTransform(A, beta, D=250, F=10):\n",
    "    \n",
    "    if A.shape != (D, F):\n",
    "        print('A has not the good shape')\n",
    "        return\n",
    "    \n",
    "    if beta.shape[0] != F:\n",
    "        print('beta has not the good shape')\n",
    "        return        \n",
    "    \n",
    "    output = np.hstack( (np.hstack([A.T, beta.reshape((F, 1))])).T )\n",
    "    \n",
    "    return output"
   ]
  },
  {
   "cell_type": "code",
   "execution_count": null,
   "metadata": {},
   "outputs": [],
   "source": [
    "# random submission example\n",
    "np.random.seed(1234)\n",
    "\n",
    "A = randomA()\n",
    "beta = np.random.rand(10)\n",
    "\n",
    "# from output to csv file...\n",
    "output = parametersTransform(A, beta)\n",
    "pd.DataFrame(output).to_csv(path + 'submissionExample.csv')\n",
    "\n",
    "# ... and back\n",
    "output_fromCsv = pd.read_csv(path + 'submissionExample.csv', index_col=0, sep=',').to_numpy()\n",
    "A = output_fromCsv[:-10].reshape((250, 10))\n",
    "beta = output_fromCsv[-10:].reshape((10))"
   ]
  }
 ],
 "metadata": {
  "kernelspec": {
   "display_name": "Python 3.7.12 ('tf1')",
   "language": "python",
   "name": "python3"
  },
  "language_info": {
   "codemirror_mode": {
    "name": "ipython",
    "version": 3
   },
   "file_extension": ".py",
   "mimetype": "text/x-python",
   "name": "python",
   "nbconvert_exporter": "python",
   "pygments_lexer": "ipython3",
   "version": "3.7.12"
  },
  "vscode": {
   "interpreter": {
    "hash": "48324878fd09c2ff1755460c6bedcd7035239e95f1ec0df88470a6ba78f59e5a"
   }
  }
 },
 "nbformat": 4,
 "nbformat_minor": 4
}
